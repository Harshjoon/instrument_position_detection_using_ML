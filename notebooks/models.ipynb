{
 "cells": [
  {
   "cell_type": "code",
   "execution_count": 3,
   "id": "289233ab",
   "metadata": {},
   "outputs": [],
   "source": [
    "import torchvision\n",
    "import torch\n",
    "import torch.nn as nn\n",
    "import numpy as np\n",
    "import pandas as pd\n",
    "import os\n",
    "import time\n",
    "import datetime as dt\n",
    "import psutil\n",
    "from PIL import Image\n",
    "import matplotlib.pyplot as plt\n",
    "from random import shuffle\n",
    "import glob\n",
    "import pickle"
   ]
  },
  {
   "cell_type": "code",
   "execution_count": 9,
   "id": "780cdb92",
   "metadata": {},
   "outputs": [],
   "source": [
    "def no_of_params(model):\n",
    "    sum_ = 0.\n",
    "    for key, value in model.state_dict().items():\n",
    "        sum_ += torch.prod(torch.tensor(value.shape))\n",
    "        #print(value, \"----------\", torch.prod(torch.tensor(value.shape)))\n",
    "    return int(sum_)"
   ]
  },
  {
   "cell_type": "code",
   "execution_count": 10,
   "id": "802ed39a",
   "metadata": {},
   "outputs": [
    {
     "data": {
      "text/plain": [
       "11186645"
      ]
     },
     "execution_count": 10,
     "metadata": {},
     "output_type": "execute_result"
    }
   ],
   "source": [
    "model = torchvision.models.resnet18(num_classes=1)\n",
    "no_of_params(model)"
   ]
  },
  {
   "cell_type": "code",
   "execution_count": null,
   "id": "1ba997d4",
   "metadata": {},
   "outputs": [],
   "source": []
  },
  {
   "cell_type": "code",
   "execution_count": null,
   "id": "b93b2eef",
   "metadata": {},
   "outputs": [],
   "source": [
    "class simple_model()"
   ]
  },
  {
   "cell_type": "code",
   "execution_count": null,
   "id": "b3cb75cf",
   "metadata": {},
   "outputs": [],
   "source": []
  },
  {
   "cell_type": "code",
   "execution_count": 73,
   "id": "acbe6239",
   "metadata": {},
   "outputs": [],
   "source": [
    "x = torch.randn(32,1,256,256)"
   ]
  },
  {
   "cell_type": "code",
   "execution_count": 70,
   "id": "335c7911",
   "metadata": {},
   "outputs": [],
   "source": [
    "conv1 = nn.Conv2d(1,4,kernel_size=4,padding=2,stride=2)\n",
    "conv2 = nn.Conv2d(4,8,kernel_size=4,padding=2,stride=2)\n",
    "conv3 = nn.Conv2d(8,16,kernel_size=4,padding=2,stride=2)\n",
    "conv4 = nn.Conv2d(16,32,kernel_size=4,padding=2,stride=2)\n",
    "#maxpool1 = nn.MaxPool2d(kernel_size=(2, 2), stride=(2, 2))\n",
    "activation = nn.Tanh()\n",
    "\n",
    "fc_1  = nn.Linear(9248,2048)\n",
    "fc_2  = nn.Linear(2048,1)\n",
    "#fc_3  = nn.linear(1)"
   ]
  },
  {
   "cell_type": "code",
   "execution_count": 74,
   "id": "a665b86f",
   "metadata": {},
   "outputs": [],
   "source": [
    "x = torch.randn(32,1,256,256)\n",
    "x = conv1(x)\n",
    "x = activation(x)\n",
    "x = conv2(x)\n",
    "x = activation(x)\n",
    "x = conv3(x)\n",
    "x = activation(x)\n",
    "x = conv4(x)\n",
    "x = activation(x)\n",
    "x = torch.flatten(x)\n",
    "# x = fc_1(x)\n",
    "# x = activation(x)\n",
    "# x = fc_2(x)\n",
    "# x = activation(x)"
   ]
  },
  {
   "cell_type": "code",
   "execution_count": null,
   "id": "624f503e",
   "metadata": {},
   "outputs": [],
   "source": []
  },
  {
   "cell_type": "code",
   "execution_count": null,
   "id": "62c54e88",
   "metadata": {},
   "outputs": [],
   "source": []
  },
  {
   "cell_type": "code",
   "execution_count": 76,
   "id": "59961ef8",
   "metadata": {},
   "outputs": [],
   "source": [
    "class simple_cnn(nn.Module):\n",
    "    def __init__(self):\n",
    "        super(simple_cnn, self).__init__()\n",
    "        self.conv1 = nn.Conv2d(1,4,kernel_size=4,padding=2,stride=2)\n",
    "        self.conv2 = nn.Conv2d(4,8,kernel_size=4,padding=2,stride=2)\n",
    "        self.conv3 = nn.Conv2d(8,16,kernel_size=4,padding=2,stride=2)\n",
    "        self.conv4 = nn.Conv2d(16,32,kernel_size=4,padding=2,stride=2)\n",
    "        #maxpool1 = nn.MaxPool2d(kernel_size=(2, 2), stride=(2, 2))\n",
    "        self.activation = nn.Tanh()\n",
    "\n",
    "        self.fc_1  = nn.Linear(9248,2048)\n",
    "        self.fc_2  = nn.Linear(2048,1)\n",
    "    \n",
    "    def forward(self,x):\n",
    "        \n",
    "        x = self.conv1(x)\n",
    "        x = self.activation(x)\n",
    "        x = self.conv2(x)\n",
    "        x = self.activation(x)\n",
    "        x = self.conv3(x)\n",
    "        x = self.activation(x)\n",
    "        x = self.conv4(x)\n",
    "        x = self.activation(x)\n",
    "        x = torch.flatten(x,1)\n",
    "        x = self.fc_1(x)\n",
    "        x = self.activation(x)\n",
    "        x = self.fc_2(x)\n",
    "        x = self.activation(x)\n",
    "        \n",
    "        return x"
   ]
  },
  {
   "cell_type": "code",
   "execution_count": 77,
   "id": "3d4bd7c4",
   "metadata": {},
   "outputs": [],
   "source": [
    "model = simple_cnn()"
   ]
  },
  {
   "cell_type": "code",
   "execution_count": 78,
   "id": "27fdc53e",
   "metadata": {},
   "outputs": [],
   "source": [
    "x = torch.randn(32,1,256,256)"
   ]
  },
  {
   "cell_type": "code",
   "execution_count": 80,
   "id": "a3598bde",
   "metadata": {},
   "outputs": [
    {
     "data": {
      "text/plain": [
       "torch.Size([32, 1])"
      ]
     },
     "execution_count": 80,
     "metadata": {},
     "output_type": "execute_result"
    }
   ],
   "source": [
    "model(x)"
   ]
  },
  {
   "cell_type": "code",
   "execution_count": null,
   "id": "20a443b3",
   "metadata": {},
   "outputs": [],
   "source": []
  }
 ],
 "metadata": {
  "kernelspec": {
   "display_name": "Python 3 (ipykernel)",
   "language": "python",
   "name": "python3"
  },
  "language_info": {
   "codemirror_mode": {
    "name": "ipython",
    "version": 3
   },
   "file_extension": ".py",
   "mimetype": "text/x-python",
   "name": "python",
   "nbconvert_exporter": "python",
   "pygments_lexer": "ipython3",
   "version": "3.9.13"
  }
 },
 "nbformat": 4,
 "nbformat_minor": 5
}
