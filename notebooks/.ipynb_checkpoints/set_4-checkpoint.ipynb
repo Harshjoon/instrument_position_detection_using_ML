{
 "cells": [
  {
   "cell_type": "code",
   "execution_count": 1,
   "id": "a31138e5",
   "metadata": {},
   "outputs": [],
   "source": [
    "import torch\n",
    "import torch.nn as nn\n",
    "import numpy as np\n",
    "import pandas as pd\n",
    "import os\n",
    "import time\n",
    "import datetime as dt\n",
    "import psutil\n",
    "from PIL import Image\n",
    "import matplotlib.pyplot as plt\n",
    "from random import shuffle\n",
    "import glob\n",
    "import pickle\n",
    "import torchvision\n",
    "from torch.optim import lr_scheduler\n",
    "import torch.nn.functional as F\n",
    "\n",
    "import os    \n",
    "os.environ['KMP_DUPLICATE_LIB_OK'] = 'True'"
   ]
  },
  {
   "cell_type": "code",
   "execution_count": 2,
   "id": "2de7d0d2",
   "metadata": {},
   "outputs": [],
   "source": [
    "def no_of_params(model):\n",
    "    sum_ = 0.\n",
    "    for key, value in model.state_dict().items():\n",
    "        sum_ += torch.prod(torch.tensor(value.shape))\n",
    "        #print(value, \"----------\", torch.prod(torch.tensor(value.shape)))\n",
    "    return int(sum_)"
   ]
  },
  {
   "cell_type": "code",
   "execution_count": 7,
   "id": "f50c0479",
   "metadata": {},
   "outputs": [],
   "source": [
    "class Dataset(torch.utils.data.Dataset):\n",
    "    def __init__(\n",
    "        self,\n",
    "        list_IDs,\n",
    "    ):\n",
    "        self.list_IDs  = list_IDs\n",
    "        self.cache     = {}\n",
    "        self.input_dir = \"D:/Harsh Workspace/Software/GU/instrument_position_detection_using_ML/data/set_4/images/\"\n",
    "        self.label_dir = \"D:/Harsh Workspace/Software/GU/instrument_position_detection_using_ML/data/set_4/labels/\"\n",
    "        \n",
    "    def __len__(self):\n",
    "        return len(self.list_IDs)\n",
    "    \n",
    "    def __getitem__(self, index):\n",
    "        ID = self.list_IDs[index]\n",
    "        if ID in self.cache:\n",
    "            X = self.cache[ID]['X']\n",
    "            Y = self.cache[ID]['Y']\n",
    "        else:\n",
    "            X = torchvision.io.read_image(\n",
    "                self.input_dir + str(ID) + \".png \"\n",
    "            ).to(torch.float32)\n",
    "            X = X[1].unsqueeze(0)/256.\n",
    "            \n",
    "            with open(self.label_dir + str(ID), 'rb') as fb:\n",
    "                Y  = pickle.load(fb)\n",
    "                \n",
    "            #Y = [ (i + 3.)/6. for i in Y[0] ] + [i/3.14 for i in Y[1]]\n",
    "            #Y = [ i/3. for i in Y[0] ] + [i/3.14 for i in Y[1]]\n",
    "            \n",
    "            Y = Y[1][0]/3.1415926\n",
    "            Y = torch.tensor( Y, dtype=torch.float32 ).unsqueeze(0)\n",
    "            \n",
    "            if psutil.virtual_memory().percent < 50:\n",
    "                data = {\n",
    "                    'X' : X,\n",
    "                    'Y' : Y\n",
    "                }\n",
    "                self.cache[ID] = data\n",
    "        return X,Y"
   ]
  },
  {
   "cell_type": "code",
   "execution_count": 8,
   "id": "3e463112",
   "metadata": {},
   "outputs": [],
   "source": [
    "all_ids = [str(i) for i in  list(np.arange(0,1000,1))]\n",
    "train_ids = all_ids[:800]\n",
    "val_ids   = all_ids[800:]\n",
    "params = {\n",
    "    'batch_size'  : 32,\n",
    "    'shuffle'     : True,\n",
    "    #'num_workers' : 2\n",
    "}\n",
    "training_set         = Dataset(train_ids)\n",
    "training_generator   = torch.utils.data.DataLoader(\n",
    "                            training_set,\n",
    "                            **params,\n",
    "                            pin_memory=True\n",
    "                        )\n",
    "validation_set       = Dataset(val_ids)\n",
    "validation_generator = torch.utils.data.DataLoader(\n",
    "                            validation_set,\n",
    "                            **params,\n",
    "                            pin_memory=True\n",
    "                        )"
   ]
  },
  {
   "cell_type": "code",
   "execution_count": 9,
   "id": "cc0b63d1",
   "metadata": {},
   "outputs": [
    {
     "data": {
      "text/plain": [
       "torch.Size([32, 1])"
      ]
     },
     "execution_count": 9,
     "metadata": {},
     "output_type": "execute_result"
    }
   ],
   "source": [
    "for batch in training_generator:\n",
    "    break\n",
    "batch[1].shape"
   ]
  },
  {
   "cell_type": "code",
   "execution_count": 16,
   "id": "889927db",
   "metadata": {},
   "outputs": [
    {
     "data": {
      "text/plain": [
       "tensor([0.0903])"
      ]
     },
     "execution_count": 16,
     "metadata": {},
     "output_type": "execute_result"
    },
    {
     "data": {
      "image/png": "[encoded data removed]",
      "text/plain": [
       "<Figure size 640x480 with 1 Axes>"
      ]
     },
     "metadata": {},
     "output_type": "display_data"
    }
   ],
   "source": [
    "plt.imshow(batch[0][7][0])\n",
    "batch[1][7]"
   ]
  },
  {
   "cell_type": "code",
   "execution_count": 14,
   "id": "3e71457d",
   "metadata": {},
   "outputs": [
    {
     "data": {
      "text/plain": [
       "tensor([0.9795])"
      ]
     },
     "execution_count": 14,
     "metadata": {},
     "output_type": "execute_result"
    },
    {
     "data": {
      "image/png": "[encoded data removed]",
      "text/plain": [
       "<Figure size 640x480 with 1 Axes>"
      ]
     },
     "metadata": {},
     "output_type": "display_data"
    }
   ],
   "source": [
    "plt.imshow(batch[0][4][0])\n",
    "batch[1][4]"
   ]
  },
  {
   "cell_type": "code",
   "execution_count": 17,
   "id": "cec3bb7a",
   "metadata": {},
   "outputs": [],
   "source": [
    "def train_one_epoch(\n",
    "    model,\n",
    "    optimizer\n",
    "):\n",
    "    running_loss = 0.\n",
    "    loss_fn = nn.MSELoss()\n",
    "    \n",
    "    model.train(True)\n",
    "    \n",
    "    for i,batch in enumerate(training_generator):\n",
    "        X = batch[0]\n",
    "        Y = batch[1]\n",
    "        output = model(batch[0])\n",
    "        loss = loss_fn(Y, output)\n",
    "        loss.backward()\n",
    "        optimizer.step()\n",
    "        \n",
    "        running_loss += loss.item()\n",
    "        del X,Y,output\n",
    "    \n",
    "    return running_loss/(i+1)\n",
    "\n",
    "def validate_one_epoch(\n",
    "    model,\n",
    "    optimizer\n",
    "):\n",
    "    running_loss = 0.\n",
    "    loss_fn = nn.MSELoss()\n",
    "    model.train(False)\n",
    "    model.eval()\n",
    "    \n",
    "    for i,batch in enumerate(validation_generator):\n",
    "        X = batch[0]\n",
    "        Y = batch[1]\n",
    "        output = model(batch[0])\n",
    "        loss = loss_fn(Y, output)\n",
    "        #optimizer.step()\n",
    "        \n",
    "        running_loss += loss.item()\n",
    "        del X,Y,output\n",
    "    \n",
    "    return running_loss/(i+1)"
   ]
  },
  {
   "cell_type": "code",
   "execution_count": 18,
   "id": "cdb8353f",
   "metadata": {},
   "outputs": [],
   "source": [
    "class Network(nn.Module):\n",
    "    def __init__(self):\n",
    "        super(Network, self).__init__()\n",
    "        \n",
    "        self.conv1 = nn.Conv2d(in_channels=1, out_channels=3, kernel_size=5, stride=1, padding=1)\n",
    "        self.bn1 = nn.BatchNorm2d(3)\n",
    "        self.conv2 = nn.Conv2d(in_channels=3, out_channels=12, kernel_size=5, stride=1, padding=1)\n",
    "        self.bn2 = nn.BatchNorm2d(12)\n",
    "        self.pool = nn.MaxPool2d(2,2)\n",
    "        self.conv4 = nn.Conv2d(in_channels=12, out_channels=24, kernel_size=5, stride=1, padding=1)\n",
    "        self.bn4 = nn.BatchNorm2d(24)\n",
    "        self.conv5 = nn.Conv2d(in_channels=24, out_channels=24, kernel_size=5, stride=1, padding=1)\n",
    "        self.bn5 = nn.BatchNorm2d(24)\n",
    "        self.fc1 = nn.Linear(24*10*10, 1)\n",
    "\n",
    "    def forward(self, input):\n",
    "        output = torch.tanh(self.bn1(self.conv1(input)))      \n",
    "        output = torch.tanh(self.bn2(self.conv2(output)))     \n",
    "        output = self.pool(output)                        \n",
    "        output = torch.tanh(self.bn4(self.conv4(output)))     \n",
    "        output = torch.tanh(self.bn5(self.conv5(output))) \n",
    "        output = output.view(-1, 24*10*10)\n",
    "        output = self.fc1(output)\n",
    "        output = torch.tanh(output)\n",
    "\n",
    "        return output"
   ]
  },
  {
   "cell_type": "code",
   "execution_count": 19,
   "id": "2eea7417",
   "metadata": {},
   "outputs": [
    {
     "data": {
      "text/plain": [
       "25295"
      ]
     },
     "execution_count": 19,
     "metadata": {},
     "output_type": "execute_result"
    }
   ],
   "source": [
    "model = Network()\n",
    "no_of_params(model)"
   ]
  },
  {
   "cell_type": "code",
   "execution_count": 20,
   "id": "fc8a7fcc",
   "metadata": {},
   "outputs": [],
   "source": [
    "lr = 1e-5\n",
    "wd = 1e-4\n",
    "epochs = 100\n",
    "optimizer = torch.optim.Adam(\n",
    "        model.parameters(),\n",
    "        lr           = lr,\n",
    "        weight_decay = wd\n",
    "    )\n",
    "\n",
    "gamma = 0.9#0.85\n",
    "scheduler_step_size = 1\n",
    "scheduler = lr_scheduler.StepLR(\n",
    "    optimizer, \n",
    "    step_size = scheduler_step_size, \n",
    "    gamma     = gamma)\n",
    "\n",
    "# scheduler = lr_scheduler.ExponentialLR(\n",
    "#     optimizer, \n",
    "#     #step_size = scheduler_step_size, \n",
    "#     gamma     = gamma)"
   ]
  },
  {
   "cell_type": "code",
   "execution_count": null,
   "id": "389c816a",
   "metadata": {},
   "outputs": [],
   "source": []
  }
 ],
 "metadata": {
  "kernelspec": {
   "display_name": "Python 3 (ipykernel)",
   "language": "python",
   "name": "python3"
  },
  "language_info": {
   "codemirror_mode": {
    "name": "ipython",
    "version": 3
   },
   "file_extension": ".py",
   "mimetype": "text/x-python",
   "name": "python",
   "nbconvert_exporter": "python",
   "pygments_lexer": "ipython3",
   "version": "3.9.13"
  }
 },
 "nbformat": 4,
 "nbformat_minor": 5
}
